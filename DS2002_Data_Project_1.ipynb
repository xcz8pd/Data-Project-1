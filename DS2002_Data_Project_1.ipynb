{
  "nbformat": 4,
  "nbformat_minor": 0,
  "metadata": {
    "colab": {
      "provenance": [],
      "include_colab_link": true
    },
    "kernelspec": {
      "name": "python3",
      "display_name": "Python 3"
    },
    "language_info": {
      "name": "python"
    }
  },
  "cells": [
    {
      "cell_type": "markdown",
      "metadata": {
        "id": "view-in-github",
        "colab_type": "text"
      },
      "source": [
        "<a href=\"https://colab.research.google.com/github/xcz8pd/Data-Project-1/blob/main/DS2002_Data_Project_1.ipynb\" target=\"_parent\"><img src=\"https://colab.research.google.com/assets/colab-badge.svg\" alt=\"Open In Colab\"/></a>"
      ]
    },
    {
      "cell_type": "code",
      "execution_count": 13,
      "metadata": {
        "id": "FzF9GdCDCQLI",
        "colab": {
          "base_uri": "https://localhost:8080/"
        },
        "outputId": "69f3cc29-4054-40df-aaa6-1f1ec53cb631"
      },
      "outputs": [
        {
          "output_type": "stream",
          "name": "stdout",
          "text": [
            "Enter file name: spotify_data.csv\n",
            "                      Songs & Artist     Streams      Daily\n",
            "0       The Weeknd - Blinding Lights  4463658617  1619447.0\n",
            "1          Ed Sheeran - Shape of You  4018102402  1001507.0\n",
            "2  Lewis Capaldi - Someone You Loved  3588673578  1506961.0\n",
            "3           Harry Styles - As It Was  3544187311  1611374.0\n",
            "4            Post Malone - Sunflower  3518744128  1337404.0\n"
          ]
        }
      ],
      "source": [
        "import csv\n",
        "import json\n",
        "import pandas as pd\n",
        "\n",
        "def read_file(file_name):\n",
        "  if file_name.endswith('.csv'):\n",
        "    df = pd.read_csv(file_name)\n",
        "    return df\n",
        "  elif file_name.startswith('https'):\n",
        "    df = pd.read_json(file_name)\n",
        "    return df\n",
        "  else:\n",
        "    raise ValueError(\"Unsupported file format.\")\n",
        "\n",
        "user_input = input(\"Enter file name: \")\n",
        "df = read_file(user_input)\n",
        "print(df.head())\n",
        "#this code is taking in a json or the csv from the user input, reading the data from the file,\n",
        "#and turning it into a dataframe. It prints the first 5 rows of the dataframe."
      ]
    },
    {
      "cell_type": "code",
      "source": [
        "import pandas as pd\n",
        "\n",
        "def dataframe_summary(df):\n",
        "    number_records = len(df)\n",
        "    number_columns = len(df.columns.unique())\n",
        "    summary = f\"The DataFrame contains {number_records} records and {number_columns} columns.\"\n",
        "\n",
        "    return summary\n",
        "print(dataframe_summary(df))\n",
        "#summary info about the input dataframe\n"
      ],
      "metadata": {
        "colab": {
          "base_uri": "https://localhost:8080/"
        },
        "id": "0zHIJLuNfkKW",
        "outputId": "8eddb0b7-c510-4b1c-9446-cebe6e80a7a7"
      },
      "execution_count": 14,
      "outputs": [
        {
          "output_type": "stream",
          "name": "stdout",
          "text": [
            "The DataFrame contains 2500 records and 3 columns.\n"
          ]
        }
      ]
    },
    {
      "cell_type": "code",
      "source": [
        "df = df.drop(df.columns[-1], axis=1)\n",
        "print(df.head())\n",
        "#drops the last column of the dataframe and prints the first 5 rows of the modified dataframe."
      ],
      "metadata": {
        "id": "yrC0naR-bnSq",
        "colab": {
          "base_uri": "https://localhost:8080/"
        },
        "outputId": "7b0c645e-41d7-470a-a186-41143e862727"
      },
      "execution_count": 15,
      "outputs": [
        {
          "output_type": "stream",
          "name": "stdout",
          "text": [
            "                      Songs & Artist     Streams\n",
            "0       The Weeknd - Blinding Lights  4463658617\n",
            "1          Ed Sheeran - Shape of You  4018102402\n",
            "2  Lewis Capaldi - Someone You Loved  3588673578\n",
            "3           Harry Styles - As It Was  3544187311\n",
            "4            Post Malone - Sunflower  3518744128\n"
          ]
        }
      ]
    },
    {
      "cell_type": "code",
      "source": [
        "import sqlite3\n",
        "def convert(file):\n",
        "  if file == 'csv':\n",
        "    df.to_csv('output.csv', index=False)\n",
        "    print(f\"File converted and saved as output.csv\")\n",
        "    return df\n",
        "  elif file == 'json':\n",
        "    json_data = df.to_json('output.json')\n",
        "    print(\"DataFrame saved as 'output.json'\")\n",
        "    return df\n",
        "  elif file == 'sql':\n",
        "    db_name = 'data.sql'\n",
        "    conn = sqlite3.connect(db_name)\n",
        "    df.to_sql('my_table', conn, if_exists='replace', index=False)\n",
        "    conn.commit()\n",
        "    print('DataFrame converted and saved to SQLite as my_table')\n",
        "    conn.close()\n",
        "    return df\n",
        "  else:\n",
        "    raise ValueError(\"Unsupported file format\")\n",
        "\n",
        "convert_to = input(\"Convert to:\")\n",
        "new_df = convert(convert_to)\n",
        "#this code converts the dataframe to CSV, JSON, or SQLite depending on user input"
      ],
      "metadata": {
        "id": "GCQ088MCVPsf",
        "colab": {
          "base_uri": "https://localhost:8080/"
        },
        "outputId": "9d5226df-a51e-4d53-d9b4-fb327e8fbb2a"
      },
      "execution_count": 18,
      "outputs": [
        {
          "output_type": "stream",
          "name": "stdout",
          "text": [
            "Convert to:sql\n",
            "DataFrame converted and saved to SQLite as my_table\n"
          ]
        }
      ]
    },
    {
      "cell_type": "code",
      "source": [
        "def postprocessing_summary(df):\n",
        "    number_records = len(df)\n",
        "    number_columns = len(df.columns.unique())\n",
        "    summary = f\"The DataFrame post processing contains {number_records} records and {number_columns} columns.\"\n",
        "\n",
        "    return summary\n",
        "print(dataframe_summary(df))\n",
        "#summary info about the dataframe post processing"
      ],
      "metadata": {
        "colab": {
          "base_uri": "https://localhost:8080/"
        },
        "id": "U8NQOQYiCBYU",
        "outputId": "9453b8e9-cef4-4b79-f434-023c503842a3"
      },
      "execution_count": 19,
      "outputs": [
        {
          "output_type": "stream",
          "name": "stdout",
          "text": [
            "The DataFrame contains 2500 records and 2 columns.\n"
          ]
        }
      ]
    }
  ]
}